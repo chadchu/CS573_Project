{
 "cells": [
  {
   "cell_type": "code",
   "execution_count": 1,
   "metadata": {},
   "outputs": [],
   "source": [
    "import numpy as np\n",
    "import pandas as pd\n",
    "import sklearn\n",
    "import re"
   ]
  },
  {
   "cell_type": "markdown",
   "metadata": {},
   "source": [
    "# Read trainig and testing files"
   ]
  },
  {
   "cell_type": "code",
   "execution_count": 2,
   "metadata": {},
   "outputs": [
    {
     "data": {
      "text/html": [
       "<div>\n",
       "<style scoped>\n",
       "    .dataframe tbody tr th:only-of-type {\n",
       "        vertical-align: middle;\n",
       "    }\n",
       "\n",
       "    .dataframe tbody tr th {\n",
       "        vertical-align: top;\n",
       "    }\n",
       "\n",
       "    .dataframe thead th {\n",
       "        text-align: right;\n",
       "    }\n",
       "</style>\n",
       "<table border=\"1\" class=\"dataframe\">\n",
       "  <thead>\n",
       "    <tr style=\"text-align: right;\">\n",
       "      <th></th>\n",
       "      <th>UserName</th>\n",
       "      <th>ScreenName</th>\n",
       "      <th>Location</th>\n",
       "      <th>TweetAt</th>\n",
       "      <th>OriginalTweet</th>\n",
       "      <th>Sentiment</th>\n",
       "    </tr>\n",
       "  </thead>\n",
       "  <tbody>\n",
       "    <tr>\n",
       "      <th>0</th>\n",
       "      <td>3799</td>\n",
       "      <td>48751</td>\n",
       "      <td>London</td>\n",
       "      <td>16-03-2020</td>\n",
       "      <td>@MeNyrbie @Phil_Gahan @Chrisitv https://t.co/i...</td>\n",
       "      <td>Neutral</td>\n",
       "    </tr>\n",
       "    <tr>\n",
       "      <th>1</th>\n",
       "      <td>3800</td>\n",
       "      <td>48752</td>\n",
       "      <td>UK</td>\n",
       "      <td>16-03-2020</td>\n",
       "      <td>advice Talk to your neighbours family to excha...</td>\n",
       "      <td>Positive</td>\n",
       "    </tr>\n",
       "    <tr>\n",
       "      <th>2</th>\n",
       "      <td>3801</td>\n",
       "      <td>48753</td>\n",
       "      <td>Vagabonds</td>\n",
       "      <td>16-03-2020</td>\n",
       "      <td>Coronavirus Australia: Woolworths to give elde...</td>\n",
       "      <td>Positive</td>\n",
       "    </tr>\n",
       "    <tr>\n",
       "      <th>3</th>\n",
       "      <td>3802</td>\n",
       "      <td>48754</td>\n",
       "      <td>NaN</td>\n",
       "      <td>16-03-2020</td>\n",
       "      <td>My food stock is not the only one which is emp...</td>\n",
       "      <td>Positive</td>\n",
       "    </tr>\n",
       "    <tr>\n",
       "      <th>4</th>\n",
       "      <td>3803</td>\n",
       "      <td>48755</td>\n",
       "      <td>NaN</td>\n",
       "      <td>16-03-2020</td>\n",
       "      <td>Me, ready to go at supermarket during the #COV...</td>\n",
       "      <td>Extremely Negative</td>\n",
       "    </tr>\n",
       "  </tbody>\n",
       "</table>\n",
       "</div>"
      ],
      "text/plain": [
       "   UserName  ScreenName   Location     TweetAt  \\\n",
       "0      3799       48751     London  16-03-2020   \n",
       "1      3800       48752         UK  16-03-2020   \n",
       "2      3801       48753  Vagabonds  16-03-2020   \n",
       "3      3802       48754        NaN  16-03-2020   \n",
       "4      3803       48755        NaN  16-03-2020   \n",
       "\n",
       "                                       OriginalTweet           Sentiment  \n",
       "0  @MeNyrbie @Phil_Gahan @Chrisitv https://t.co/i...             Neutral  \n",
       "1  advice Talk to your neighbours family to excha...            Positive  \n",
       "2  Coronavirus Australia: Woolworths to give elde...            Positive  \n",
       "3  My food stock is not the only one which is emp...            Positive  \n",
       "4  Me, ready to go at supermarket during the #COV...  Extremely Negative  "
      ]
     },
     "execution_count": 2,
     "metadata": {},
     "output_type": "execute_result"
    }
   ],
   "source": [
    "train = pd.read_csv('data/Corona_NLP_train.csv', encoding='latin1')\n",
    "test = pd.read_csv('data/Corona_NLP_test.csv', encoding='latin1')\n",
    "\n",
    "train.head()"
   ]
  },
  {
   "cell_type": "markdown",
   "metadata": {},
   "source": [
    "# Encoding classes"
   ]
  },
  {
   "cell_type": "code",
   "execution_count": 3,
   "metadata": {},
   "outputs": [],
   "source": [
    "from sklearn.preprocessing import LabelEncoder\n",
    "\n",
    "encoder = LabelEncoder()\n",
    "train['encoded_sentiment'] = encoder.fit_transform(train['Sentiment'])\n",
    "test['encoded_sentiment'] = encoder.transform(test['Sentiment'])"
   ]
  },
  {
   "cell_type": "code",
   "execution_count": 4,
   "metadata": {},
   "outputs": [],
   "source": [
    "train['OriginalTweet'] = train['OriginalTweet'].apply(lambda x: ' '.join(re.sub(\"(@[A-Za-z0-9]+)|([^0-9A-Za-z \\t])|(\\w+:\\/\\/\\S+)\",\" \",x).split()))\n",
    "test['OriginalTweet'] = test['OriginalTweet'].apply(lambda x: ' '.join(re.sub(\"(@[A-Za-z0-9]+)|([^0-9A-Za-z \\t])|(\\w+:\\/\\/\\S+)\",\" \",x).split()))"
   ]
  },
  {
   "cell_type": "code",
   "execution_count": 5,
   "metadata": {},
   "outputs": [],
   "source": [
    "from sklearn.model_selection import train_test_split\n",
    "\n",
    "xtrain, xval, ytrain, yval = train_test_split(train['OriginalTweet'], train['encoded_sentiment'], test_size = 0.2)\n",
    "xtest, ytest = test['OriginalTweet'], test['encoded_sentiment']"
   ]
  },
  {
   "cell_type": "markdown",
   "metadata": {},
   "source": [
    "# Encode words to embeddings"
   ]
  },
  {
   "cell_type": "code",
   "execution_count": 6,
   "metadata": {},
   "outputs": [],
   "source": [
    "import fasttext"
   ]
  },
  {
   "cell_type": "code",
   "execution_count": 7,
   "metadata": {},
   "outputs": [
    {
     "name": "stderr",
     "output_type": "stream",
     "text": [
      "Warning : `load_model` does not return WordVectorModel or SupervisedModel any more, but a `FastText` object which is very similar.\n"
     ]
    }
   ],
   "source": [
    "ft = fasttext.load_model('cc.en.300.bin')"
   ]
  },
  {
   "cell_type": "code",
   "execution_count": 8,
   "metadata": {},
   "outputs": [],
   "source": [
    "xtrain = np.array(xtrain.apply(ft.get_sentence_vector).to_list())\n",
    "xval = np.array(xval.apply(ft.get_sentence_vector).to_list())\n",
    "xtest = np.array(xtest.apply(ft.get_sentence_vector).to_list())"
   ]
  },
  {
   "cell_type": "markdown",
   "metadata": {},
   "source": [
    "# Random Forest"
   ]
  },
  {
   "cell_type": "code",
   "execution_count": 9,
   "metadata": {},
   "outputs": [],
   "source": [
    "from sklearn.ensemble import RandomForestClassifier\n",
    "from sklearn.naive_bayes import GaussianNB"
   ]
  },
  {
   "cell_type": "code",
   "execution_count": 10,
   "metadata": {},
   "outputs": [
    {
     "data": {
      "text/plain": [
       "RandomForestClassifier(n_estimators=300)"
      ]
     },
     "execution_count": 10,
     "metadata": {},
     "output_type": "execute_result"
    }
   ],
   "source": [
    "clf = RandomForestClassifier(300)\n",
    "clf.fit(xtrain, ytrain)"
   ]
  },
  {
   "cell_type": "code",
   "execution_count": 11,
   "metadata": {},
   "outputs": [
    {
     "data": {
      "text/plain": [
       "0.4363459669582119"
      ]
     },
     "execution_count": 11,
     "metadata": {},
     "output_type": "execute_result"
    }
   ],
   "source": [
    "clf.score(xval, yval)"
   ]
  },
  {
   "cell_type": "code",
   "execution_count": 12,
   "metadata": {},
   "outputs": [
    {
     "data": {
      "text/plain": [
       "0.3770405476566614"
      ]
     },
     "execution_count": 12,
     "metadata": {},
     "output_type": "execute_result"
    }
   ],
   "source": [
    "clf.score(xtest, ytest)"
   ]
  },
  {
   "cell_type": "markdown",
   "metadata": {},
   "source": [
    "# Gaussian Naive Bayes"
   ]
  },
  {
   "cell_type": "code",
   "execution_count": 13,
   "metadata": {},
   "outputs": [
    {
     "data": {
      "text/plain": [
       "GaussianNB()"
      ]
     },
     "execution_count": 13,
     "metadata": {},
     "output_type": "execute_result"
    }
   ],
   "source": [
    "clf = GaussianNB()\n",
    "clf.fit(xtrain, ytrain)"
   ]
  },
  {
   "cell_type": "code",
   "execution_count": 14,
   "metadata": {},
   "outputs": [
    {
     "data": {
      "text/plain": [
       "0.3332118561710398"
      ]
     },
     "execution_count": 14,
     "metadata": {},
     "output_type": "execute_result"
    }
   ],
   "source": [
    "clf.score(xval, yval)"
   ]
  },
  {
   "cell_type": "code",
   "execution_count": 15,
   "metadata": {},
   "outputs": [
    {
     "data": {
      "text/plain": [
       "0.3246445497630332"
      ]
     },
     "execution_count": 15,
     "metadata": {},
     "output_type": "execute_result"
    }
   ],
   "source": [
    "clf.score(xtest, ytest)"
   ]
  },
  {
   "cell_type": "markdown",
   "metadata": {},
   "source": [
    "# SVM"
   ]
  },
  {
   "cell_type": "code",
   "execution_count": 16,
   "metadata": {},
   "outputs": [],
   "source": [
    "from sklearn.svm import SVC"
   ]
  },
  {
   "cell_type": "code",
   "execution_count": 19,
   "metadata": {},
   "outputs": [
    {
     "data": {
      "text/plain": [
       "SVC(C=5)"
      ]
     },
     "execution_count": 19,
     "metadata": {},
     "output_type": "execute_result"
    }
   ],
   "source": [
    "clf = SVC(C=5)\n",
    "clf.fit(xtrain, ytrain)"
   ]
  },
  {
   "cell_type": "code",
   "execution_count": 20,
   "metadata": {},
   "outputs": [
    {
     "data": {
      "text/plain": [
       "0.531584062196307"
      ]
     },
     "execution_count": 20,
     "metadata": {},
     "output_type": "execute_result"
    }
   ],
   "source": [
    "clf.score(xval, yval)"
   ]
  },
  {
   "cell_type": "code",
   "execution_count": 21,
   "metadata": {},
   "outputs": [
    {
     "data": {
      "text/plain": [
       "0.5115850447604002"
      ]
     },
     "execution_count": 21,
     "metadata": {},
     "output_type": "execute_result"
    }
   ],
   "source": [
    "clf.score(xtest, ytest)"
   ]
  },
  {
   "cell_type": "markdown",
   "metadata": {},
   "source": [
    "# Xgboost"
   ]
  },
  {
   "cell_type": "code",
   "execution_count": 23,
   "metadata": {},
   "outputs": [],
   "source": [
    "import xgboost as xgb"
   ]
  },
  {
   "cell_type": "code",
   "execution_count": 29,
   "metadata": {},
   "outputs": [
    {
     "name": "stdout",
     "output_type": "stream",
     "text": [
      "[22:47:10] WARNING: /Users/travis/build/dmlc/xgboost/src/learner.cc:516: \n",
      "Parameters: { silent } might not be used.\n",
      "\n",
      "  This may not be accurate due to some parameters are only used in language bindings but\n",
      "  passed down to XGBoost core.  Or some parameters are not used but slip through this\n",
      "  verification. Please open an issue if you find above cases.\n",
      "\n",
      "\n",
      "[0]\ttrain-merror:0.60079\tval-merror:0.66181\ttest-merror:0.67378\n",
      "[1]\ttrain-merror:0.56413\tval-merror:0.63933\ttest-merror:0.65640\n",
      "[2]\ttrain-merror:0.54299\tval-merror:0.62306\ttest-merror:0.65034\n",
      "[3]\ttrain-merror:0.53300\tval-merror:0.61783\ttest-merror:0.64771\n",
      "[4]\ttrain-merror:0.52091\tval-merror:0.61467\ttest-merror:0.64007\n",
      "[5]\ttrain-merror:0.51271\tval-merror:0.61309\ttest-merror:0.64007\n",
      "[6]\ttrain-merror:0.50372\tval-merror:0.60933\ttest-merror:0.63639\n",
      "[7]\ttrain-merror:0.49677\tval-merror:0.60398\ttest-merror:0.62770\n",
      "[8]\ttrain-merror:0.49172\tval-merror:0.60119\ttest-merror:0.63138\n",
      "[9]\ttrain-merror:0.48346\tval-merror:0.60034\ttest-merror:0.63138\n",
      "[10]\ttrain-merror:0.47894\tval-merror:0.59451\ttest-merror:0.62849\n",
      "[11]\ttrain-merror:0.47329\tval-merror:0.59390\ttest-merror:0.62744\n",
      "[12]\ttrain-merror:0.46566\tval-merror:0.59232\ttest-merror:0.62954\n",
      "[13]\ttrain-merror:0.46135\tval-merror:0.58892\ttest-merror:0.62823\n",
      "[14]\ttrain-merror:0.45479\tval-merror:0.58904\ttest-merror:0.62217\n",
      "[15]\ttrain-merror:0.44878\tval-merror:0.58831\ttest-merror:0.61927\n",
      "[16]\ttrain-merror:0.44592\tval-merror:0.58455\ttest-merror:0.62033\n",
      "[17]\ttrain-merror:0.44049\tval-merror:0.58345\ttest-merror:0.61717\n",
      "[18]\ttrain-merror:0.43705\tval-merror:0.58175\ttest-merror:0.61032\n",
      "[19]\ttrain-merror:0.43219\tval-merror:0.58236\ttest-merror:0.61269\n",
      "[20]\ttrain-merror:0.42843\tval-merror:0.58175\ttest-merror:0.61164\n",
      "[21]\ttrain-merror:0.42302\tval-merror:0.58273\ttest-merror:0.60927\n",
      "[22]\ttrain-merror:0.41868\tval-merror:0.58175\ttest-merror:0.60874\n",
      "[23]\ttrain-merror:0.41437\tval-merror:0.57811\ttest-merror:0.60637\n",
      "[24]\ttrain-merror:0.41075\tval-merror:0.57896\ttest-merror:0.60637\n",
      "[25]\ttrain-merror:0.40668\tval-merror:0.57544\ttest-merror:0.60558\n",
      "[26]\ttrain-merror:0.40100\tval-merror:0.57398\ttest-merror:0.60400\n",
      "[27]\ttrain-merror:0.39806\tval-merror:0.57167\ttest-merror:0.59926\n",
      "[28]\ttrain-merror:0.39344\tval-merror:0.56973\ttest-merror:0.59926\n",
      "[29]\ttrain-merror:0.39049\tval-merror:0.56888\ttest-merror:0.60137\n",
      "[30]\ttrain-merror:0.38591\tval-merror:0.56924\ttest-merror:0.60216\n",
      "[31]\ttrain-merror:0.38062\tval-merror:0.56827\ttest-merror:0.60137\n",
      "[32]\ttrain-merror:0.37798\tval-merror:0.56645\ttest-merror:0.59663\n",
      "[33]\ttrain-merror:0.37443\tval-merror:0.56426\ttest-merror:0.59400\n",
      "[34]\ttrain-merror:0.37115\tval-merror:0.56548\ttest-merror:0.59452\n",
      "[35]\ttrain-merror:0.36723\tval-merror:0.56584\ttest-merror:0.59268\n",
      "[36]\ttrain-merror:0.36483\tval-merror:0.56232\ttest-merror:0.59189\n",
      "[37]\ttrain-merror:0.35979\tval-merror:0.56256\ttest-merror:0.59268\n",
      "[38]\ttrain-merror:0.35730\tval-merror:0.55916\ttest-merror:0.59347\n",
      "[39]\ttrain-merror:0.35283\tval-merror:0.55964\ttest-merror:0.59189\n",
      "[40]\ttrain-merror:0.35058\tval-merror:0.55904\ttest-merror:0.58978\n",
      "[41]\ttrain-merror:0.34709\tval-merror:0.55795\ttest-merror:0.59242\n",
      "[42]\ttrain-merror:0.34436\tval-merror:0.55977\ttest-merror:0.59057\n",
      "[43]\ttrain-merror:0.34041\tval-merror:0.55940\ttest-merror:0.59005\n",
      "[44]\ttrain-merror:0.33804\tval-merror:0.55892\ttest-merror:0.58741\n",
      "[45]\ttrain-merror:0.33546\tval-merror:0.55612\ttest-merror:0.58689\n",
      "[46]\ttrain-merror:0.33118\tval-merror:0.55600\ttest-merror:0.59005\n",
      "[47]\ttrain-merror:0.32826\tval-merror:0.55624\ttest-merror:0.58926\n",
      "[48]\ttrain-merror:0.32720\tval-merror:0.55491\ttest-merror:0.59031\n",
      "[49]\ttrain-merror:0.32413\tval-merror:0.55588\ttest-merror:0.59268\n",
      "[50]\ttrain-merror:0.32033\tval-merror:0.55588\ttest-merror:0.58952\n",
      "[51]\ttrain-merror:0.31730\tval-merror:0.55527\ttest-merror:0.59057\n",
      "[52]\ttrain-merror:0.31244\tval-merror:0.55369\ttest-merror:0.58768\n",
      "[53]\ttrain-merror:0.30995\tval-merror:0.55442\ttest-merror:0.59110\n",
      "[54]\ttrain-merror:0.30585\tval-merror:0.55187\ttest-merror:0.59031\n",
      "[55]\ttrain-merror:0.30399\tval-merror:0.55187\ttest-merror:0.58899\n",
      "[56]\ttrain-merror:0.30153\tval-merror:0.55284\ttest-merror:0.58794\n",
      "[57]\ttrain-merror:0.29889\tval-merror:0.55199\ttest-merror:0.58873\n",
      "[58]\ttrain-merror:0.29631\tval-merror:0.55005\ttest-merror:0.58952\n",
      "[59]\ttrain-merror:0.29409\tval-merror:0.55041\ttest-merror:0.58741\n",
      "[60]\ttrain-merror:0.29136\tval-merror:0.54944\ttest-merror:0.58873\n",
      "[61]\ttrain-merror:0.28714\tval-merror:0.54895\ttest-merror:0.58689\n",
      "[62]\ttrain-merror:0.28522\tval-merror:0.54810\ttest-merror:0.58689\n",
      "[63]\ttrain-merror:0.28288\tval-merror:0.54689\ttest-merror:0.58557\n",
      "[64]\ttrain-merror:0.28000\tval-merror:0.54592\ttest-merror:0.58425\n",
      "[65]\ttrain-merror:0.27769\tval-merror:0.54385\ttest-merror:0.58057\n",
      "[66]\ttrain-merror:0.27535\tval-merror:0.54373\ttest-merror:0.58004\n",
      "[67]\ttrain-merror:0.27228\tval-merror:0.54410\ttest-merror:0.58162\n",
      "[68]\ttrain-merror:0.27101\tval-merror:0.54397\ttest-merror:0.58083\n",
      "[69]\ttrain-merror:0.26815\tval-merror:0.54495\ttest-merror:0.58268\n",
      "[70]\ttrain-merror:0.26524\tval-merror:0.54312\ttest-merror:0.58268\n",
      "[71]\ttrain-merror:0.26153\tval-merror:0.54337\ttest-merror:0.58241\n",
      "[72]\ttrain-merror:0.25831\tval-merror:0.54142\ttest-merror:0.58531\n",
      "[73]\ttrain-merror:0.25719\tval-merror:0.54155\ttest-merror:0.58004\n",
      "[74]\ttrain-merror:0.25458\tval-merror:0.54142\ttest-merror:0.57899\n",
      "[75]\ttrain-merror:0.25279\tval-merror:0.54191\ttest-merror:0.57952\n",
      "[76]\ttrain-merror:0.24966\tval-merror:0.54167\ttest-merror:0.57767\n",
      "[77]\ttrain-merror:0.24777\tval-merror:0.53948\ttest-merror:0.57978\n",
      "[78]\ttrain-merror:0.24604\tval-merror:0.54070\ttest-merror:0.58004\n",
      "[79]\ttrain-merror:0.24343\tval-merror:0.54021\ttest-merror:0.57767\n",
      "[80]\ttrain-merror:0.24122\tval-merror:0.54167\ttest-merror:0.57688\n",
      "[81]\ttrain-merror:0.23945\tval-merror:0.54191\ttest-merror:0.57899\n",
      "[82]\ttrain-merror:0.23687\tval-merror:0.54118\ttest-merror:0.57636\n",
      "[83]\ttrain-merror:0.23414\tval-merror:0.53948\ttest-merror:0.57399\n",
      "[84]\ttrain-merror:0.23183\tval-merror:0.53960\ttest-merror:0.57557\n",
      "[85]\ttrain-merror:0.22970\tval-merror:0.54106\ttest-merror:0.57372\n",
      "[86]\ttrain-merror:0.22849\tval-merror:0.53997\ttest-merror:0.57188\n",
      "[87]\ttrain-merror:0.22694\tval-merror:0.54070\ttest-merror:0.57267\n",
      "[88]\ttrain-merror:0.22439\tval-merror:0.53875\ttest-merror:0.57372\n",
      "[89]\ttrain-merror:0.22299\tval-merror:0.53960\ttest-merror:0.57030\n",
      "[90]\ttrain-merror:0.22017\tval-merror:0.53814\ttest-merror:0.57109\n",
      "[91]\ttrain-merror:0.21844\tval-merror:0.54033\ttest-merror:0.56951\n",
      "[92]\ttrain-merror:0.21646\tval-merror:0.53936\ttest-merror:0.57030\n",
      "[93]\ttrain-merror:0.21388\tval-merror:0.53851\ttest-merror:0.57030\n",
      "[94]\ttrain-merror:0.21188\tval-merror:0.53839\ttest-merror:0.57056\n",
      "[95]\ttrain-merror:0.20920\tval-merror:0.53778\ttest-merror:0.57056\n",
      "[96]\ttrain-merror:0.20753\tval-merror:0.53620\ttest-merror:0.56977\n",
      "[97]\ttrain-merror:0.20626\tval-merror:0.53523\ttest-merror:0.56819\n",
      "[98]\ttrain-merror:0.20334\tval-merror:0.53499\ttest-merror:0.56740\n",
      "[99]\ttrain-merror:0.20176\tval-merror:0.53547\ttest-merror:0.56819\n",
      "[100]\ttrain-merror:0.20015\tval-merror:0.53535\ttest-merror:0.56767\n",
      "[101]\ttrain-merror:0.19906\tval-merror:0.53511\ttest-merror:0.56714\n",
      "[102]\ttrain-merror:0.19678\tval-merror:0.53474\ttest-merror:0.56688\n",
      "[103]\ttrain-merror:0.19447\tval-merror:0.53474\ttest-merror:0.56424\n",
      "[104]\ttrain-merror:0.19280\tval-merror:0.53620\ttest-merror:0.56424\n",
      "[105]\ttrain-merror:0.19116\tval-merror:0.53486\ttest-merror:0.56530\n",
      "[106]\ttrain-merror:0.18891\tval-merror:0.53414\ttest-merror:0.56108\n",
      "[107]\ttrain-merror:0.18737\tval-merror:0.53329\ttest-merror:0.56293\n",
      "[108]\ttrain-merror:0.18509\tval-merror:0.53426\ttest-merror:0.56319\n",
      "[109]\ttrain-merror:0.18339\tval-merror:0.53316\ttest-merror:0.56556\n",
      "[110]\ttrain-merror:0.18187\tval-merror:0.53304\ttest-merror:0.56398\n",
      "[111]\ttrain-merror:0.18083\tval-merror:0.53353\ttest-merror:0.56188\n",
      "[112]\ttrain-merror:0.17926\tval-merror:0.53219\ttest-merror:0.56266\n",
      "[113]\ttrain-merror:0.17731\tval-merror:0.53134\ttest-merror:0.56161\n",
      "[114]\ttrain-merror:0.17534\tval-merror:0.53231\ttest-merror:0.56214\n",
      "[115]\ttrain-merror:0.17437\tval-merror:0.53365\ttest-merror:0.56029\n",
      "[116]\ttrain-merror:0.17236\tval-merror:0.53256\ttest-merror:0.56082\n",
      "[117]\ttrain-merror:0.17145\tval-merror:0.53256\ttest-merror:0.55924\n",
      "[118]\ttrain-merror:0.16984\tval-merror:0.53195\ttest-merror:0.55793\n",
      "[119]\ttrain-merror:0.16869\tval-merror:0.53316\ttest-merror:0.56003\n",
      "[120]\ttrain-merror:0.16699\tval-merror:0.53329\ttest-merror:0.55924\n"
     ]
    },
    {
     "name": "stdout",
     "output_type": "stream",
     "text": [
      "[121]\ttrain-merror:0.16574\tval-merror:0.53316\ttest-merror:0.55608\n",
      "[122]\ttrain-merror:0.16377\tval-merror:0.53134\ttest-merror:0.55608\n",
      "[123]\ttrain-merror:0.16216\tval-merror:0.53122\ttest-merror:0.55766\n",
      "[124]\ttrain-merror:0.16006\tval-merror:0.53122\ttest-merror:0.56003\n",
      "[125]\ttrain-merror:0.15845\tval-merror:0.53049\ttest-merror:0.55977\n",
      "[126]\ttrain-merror:0.15733\tval-merror:0.53061\ttest-merror:0.55714\n",
      "[127]\ttrain-merror:0.15587\tval-merror:0.53025\ttest-merror:0.55766\n",
      "[128]\ttrain-merror:0.15484\tval-merror:0.53195\ttest-merror:0.55634\n",
      "[129]\ttrain-merror:0.15359\tval-merror:0.52952\ttest-merror:0.55398\n",
      "[130]\ttrain-merror:0.15216\tval-merror:0.53000\ttest-merror:0.55292\n",
      "[131]\ttrain-merror:0.15058\tval-merror:0.52733\ttest-merror:0.55345\n",
      "[132]\ttrain-merror:0.14943\tval-merror:0.52843\ttest-merror:0.55266\n",
      "[133]\ttrain-merror:0.14785\tval-merror:0.52685\ttest-merror:0.55503\n",
      "[134]\ttrain-merror:0.14667\tval-merror:0.52758\ttest-merror:0.55477\n",
      "[135]\ttrain-merror:0.14497\tval-merror:0.52697\ttest-merror:0.55266\n",
      "[136]\ttrain-merror:0.14369\tval-merror:0.52697\ttest-merror:0.55477\n",
      "[137]\ttrain-merror:0.14208\tval-merror:0.52600\ttest-merror:0.55634\n",
      "[138]\ttrain-merror:0.14053\tval-merror:0.52575\ttest-merror:0.55740\n",
      "[139]\ttrain-merror:0.13883\tval-merror:0.52600\ttest-merror:0.55608\n",
      "[140]\ttrain-merror:0.13753\tval-merror:0.52527\ttest-merror:0.55634\n",
      "[141]\ttrain-merror:0.13601\tval-merror:0.52563\ttest-merror:0.55477\n",
      "[142]\ttrain-merror:0.13434\tval-merror:0.52612\ttest-merror:0.55608\n",
      "[143]\ttrain-merror:0.13348\tval-merror:0.52393\ttest-merror:0.55634\n",
      "[144]\ttrain-merror:0.13194\tval-merror:0.52332\ttest-merror:0.55503\n",
      "[145]\ttrain-merror:0.13069\tval-merror:0.52332\ttest-merror:0.55503\n",
      "[146]\ttrain-merror:0.12905\tval-merror:0.52247\ttest-merror:0.55398\n",
      "[147]\ttrain-merror:0.12793\tval-merror:0.52417\ttest-merror:0.55398\n",
      "[148]\ttrain-merror:0.12723\tval-merror:0.52454\ttest-merror:0.55292\n",
      "[149]\ttrain-merror:0.12638\tval-merror:0.52284\ttest-merror:0.55424\n",
      "[150]\ttrain-merror:0.12462\tval-merror:0.52320\ttest-merror:0.55345\n",
      "[151]\ttrain-merror:0.12410\tval-merror:0.52405\ttest-merror:0.55424\n",
      "[152]\ttrain-merror:0.12331\tval-merror:0.52466\ttest-merror:0.55319\n",
      "[153]\ttrain-merror:0.12152\tval-merror:0.52478\ttest-merror:0.55345\n",
      "[154]\ttrain-merror:0.12085\tval-merror:0.52381\ttest-merror:0.55661\n",
      "[155]\ttrain-merror:0.12003\tval-merror:0.52332\ttest-merror:0.55714\n",
      "[156]\ttrain-merror:0.11894\tval-merror:0.52381\ttest-merror:0.55714\n",
      "[157]\ttrain-merror:0.11760\tval-merror:0.52369\ttest-merror:0.55634\n",
      "[158]\ttrain-merror:0.11736\tval-merror:0.52332\ttest-merror:0.55371\n",
      "[159]\ttrain-merror:0.11550\tval-merror:0.52308\ttest-merror:0.55398\n",
      "[160]\ttrain-merror:0.11420\tval-merror:0.52284\ttest-merror:0.55424\n",
      "[161]\ttrain-merror:0.11314\tval-merror:0.52393\ttest-merror:0.55424\n",
      "[162]\ttrain-merror:0.11201\tval-merror:0.52199\ttest-merror:0.55292\n",
      "[163]\ttrain-merror:0.11156\tval-merror:0.52162\ttest-merror:0.55345\n",
      "[164]\ttrain-merror:0.11110\tval-merror:0.52126\ttest-merror:0.55345\n",
      "[165]\ttrain-merror:0.10995\tval-merror:0.52296\ttest-merror:0.55582\n",
      "[166]\ttrain-merror:0.10895\tval-merror:0.52126\ttest-merror:0.55319\n",
      "[167]\ttrain-merror:0.10749\tval-merror:0.52016\ttest-merror:0.55634\n",
      "[168]\ttrain-merror:0.10697\tval-merror:0.52174\ttest-merror:0.55529\n",
      "[169]\ttrain-merror:0.10569\tval-merror:0.52247\ttest-merror:0.55213\n",
      "[170]\ttrain-merror:0.10494\tval-merror:0.52126\ttest-merror:0.55161\n",
      "[171]\ttrain-merror:0.10469\tval-merror:0.52114\ttest-merror:0.55134\n",
      "[172]\ttrain-merror:0.10363\tval-merror:0.51919\ttest-merror:0.55055\n",
      "[173]\ttrain-merror:0.10314\tval-merror:0.51956\ttest-merror:0.55082\n",
      "[174]\ttrain-merror:0.10208\tval-merror:0.52004\ttest-merror:0.55161\n",
      "[175]\ttrain-merror:0.10099\tval-merror:0.52016\ttest-merror:0.54976\n",
      "[176]\ttrain-merror:0.10047\tval-merror:0.52053\ttest-merror:0.54845\n",
      "[177]\ttrain-merror:0.09923\tval-merror:0.51919\ttest-merror:0.54634\n",
      "[178]\ttrain-merror:0.09831\tval-merror:0.51980\ttest-merror:0.54687\n",
      "[179]\ttrain-merror:0.09734\tval-merror:0.51992\ttest-merror:0.54950\n",
      "[180]\ttrain-merror:0.09592\tval-merror:0.51810\ttest-merror:0.54845\n",
      "[181]\ttrain-merror:0.09519\tval-merror:0.51676\ttest-merror:0.54950\n",
      "[182]\ttrain-merror:0.09443\tval-merror:0.51737\ttest-merror:0.54766\n",
      "[183]\ttrain-merror:0.09373\tval-merror:0.51907\ttest-merror:0.54739\n",
      "[184]\ttrain-merror:0.09263\tval-merror:0.51652\ttest-merror:0.54739\n",
      "[185]\ttrain-merror:0.09148\tval-merror:0.51846\ttest-merror:0.54634\n",
      "[186]\ttrain-merror:0.09054\tval-merror:0.51664\ttest-merror:0.54581\n",
      "[187]\ttrain-merror:0.08975\tval-merror:0.51676\ttest-merror:0.54502\n",
      "[188]\ttrain-merror:0.08905\tval-merror:0.51640\ttest-merror:0.54397\n",
      "[189]\ttrain-merror:0.08802\tval-merror:0.51470\ttest-merror:0.54502\n",
      "[190]\ttrain-merror:0.08705\tval-merror:0.51421\ttest-merror:0.54344\n",
      "[191]\ttrain-merror:0.08635\tval-merror:0.51482\ttest-merror:0.54186\n",
      "[192]\ttrain-merror:0.08486\tval-merror:0.51397\ttest-merror:0.53897\n",
      "[193]\ttrain-merror:0.08434\tval-merror:0.51458\ttest-merror:0.54107\n",
      "[194]\ttrain-merror:0.08319\tval-merror:0.51531\ttest-merror:0.54134\n",
      "[195]\ttrain-merror:0.08225\tval-merror:0.51555\ttest-merror:0.54081\n",
      "[196]\ttrain-merror:0.08134\tval-merror:0.51506\ttest-merror:0.53897\n",
      "[197]\ttrain-merror:0.08039\tval-merror:0.51519\ttest-merror:0.53923\n",
      "[198]\ttrain-merror:0.07979\tval-merror:0.51506\ttest-merror:0.53739\n",
      "[199]\ttrain-merror:0.07900\tval-merror:0.51397\ttest-merror:0.53739\n"
     ]
    }
   ],
   "source": [
    "params = {\n",
    "    'booster': 'gbtree',\n",
    "    'objective': 'multi:softmax',\n",
    "    'num_class': 5,\n",
    "    'gamma': 0.1,\n",
    "    'max_depth': 6,\n",
    "    'lambda': 2,\n",
    "    'subsample': 0.7,\n",
    "    'colsample_bytree': 0.7,\n",
    "    'min_child_weight': 3,\n",
    "    'silent': 1,\n",
    "    'eta': 0.1,\n",
    "    'seed': 1000,\n",
    "    'nthread': 4,\n",
    "}\n",
    "\n",
    "dtrain = xgb.DMatrix(xtrain, ytrain)\n",
    "dval = xgb.DMatrix(xval, yval)\n",
    "dtest = xgb.DMatrix(xtest, ytest)\n",
    "num_rounds = 200\n",
    "eval_list = [(dtrain, 'train'), (dval, 'val'), (dtest, 'test')]\n",
    "model = xgb.train(params, dtrain, num_rounds, eval_list)"
   ]
  },
  {
   "cell_type": "code",
   "execution_count": 30,
   "metadata": {},
   "outputs": [
    {
     "name": "stdout",
     "output_type": "stream",
     "text": [
      "validation accuracy:  0.48603012633624876\n",
      "testing accuracy:  0.46261190100052657\n"
     ]
    }
   ],
   "source": [
    "from sklearn.metrics import accuracy_score\n",
    "\n",
    "dval = xgb.DMatrix(xval)\n",
    "ans = model.predict(dval)\n",
    "print('validation accuracy: ', accuracy_score(yval, ans))\n",
    "\n",
    "dval = xgb.DMatrix(xval)\n",
    "ans = model.predict(dtest)\n",
    "print('testing accuracy: ', accuracy_score(ytest, ans))"
   ]
  },
  {
   "cell_type": "code",
   "execution_count": null,
   "metadata": {},
   "outputs": [],
   "source": []
  }
 ],
 "metadata": {
  "kernelspec": {
   "display_name": "Python 3",
   "language": "python",
   "name": "python3"
  },
  "language_info": {
   "codemirror_mode": {
    "name": "ipython",
    "version": 3
   },
   "file_extension": ".py",
   "mimetype": "text/x-python",
   "name": "python",
   "nbconvert_exporter": "python",
   "pygments_lexer": "ipython3",
   "version": "3.7.3"
  }
 },
 "nbformat": 4,
 "nbformat_minor": 4
}
